{
 "cells": [
  {
   "cell_type": "markdown",
   "id": "3b7216b0",
   "metadata": {},
   "source": [
    "## Getting Started\n",
    "We will have to download the Viola-Jones Classifier, which is the \"haarcascade_frontalface_alt.xml\" from https://github.com/opencv/opencv/tree/master/data/haarcascades.\n",
    "Simply click on file, then click on the download button.\n",
    "Then use a photo with people facing the camera. I downloaded the small picture: https://unsplash.com/photos/Q_Sei-TqSlc "
   ]
  },
  {
   "cell_type": "markdown",
   "id": "d2080c8c",
   "metadata": {},
   "source": [
    "Read the image and convert to grayscale:"
   ]
  },
  {
   "cell_type": "code",
   "execution_count": 8,
   "id": "f4171948",
   "metadata": {},
   "outputs": [],
   "source": [
    "import cv2\n",
    "# Read image from your local file system\n",
    "original_image = cv2.imread('group_photo.jpg')\n",
    "\n",
    "# Convert color image to grayscale for Viola-Jones\n",
    "grayscale_image = cv2.cvtColor(original_image, cv2.COLOR_BGR2GRAY)"
   ]
  },
  {
   "cell_type": "markdown",
   "id": "332af259",
   "metadata": {},
   "source": [
    "Load in the XML file for our pre-trained Viola-Jones classifier:"
   ]
  },
  {
   "cell_type": "code",
   "execution_count": 9,
   "id": "8d5c6ba0",
   "metadata": {},
   "outputs": [],
   "source": [
    "# Load the classifier and create a cascade object for face detection\n",
    "face_cascade = cv2.CascadeClassifier('haarcascade_frontalface_alt.xml')"
   ]
  },
  {
   "cell_type": "markdown",
   "id": "6f345a1b",
   "metadata": {},
   "source": [
    "face_cascade returns a list of (column, row, width,height) objects:"
   ]
  },
  {
   "cell_type": "code",
   "execution_count": 10,
   "id": "25171de3",
   "metadata": {},
   "outputs": [],
   "source": [
    "detected_faces = face_cascade.detectMultiScale(grayscale_image)"
   ]
  },
  {
   "cell_type": "markdown",
   "id": "6b39e606",
   "metadata": {},
   "source": [
    "use a for loop to draw the rectangle of each detected_faces:"
   ]
  },
  {
   "cell_type": "code",
   "execution_count": 11,
   "id": "67dc650c",
   "metadata": {},
   "outputs": [],
   "source": [
    "for (column, row, width, height) in detected_faces:\n",
    "    cv2.rectangle(\n",
    "        original_image,\n",
    "        (column, row), #top-left point\n",
    "        (column + width, row + height), #bottom_right point\n",
    "        (0, 255, 0), #color (R,G,B)\n",
    "        2 #line thinkness\n",
    "    )"
   ]
  },
  {
   "cell_type": "markdown",
   "id": "41f9e3dc",
   "metadata": {},
   "source": [
    "Show the orignial image with the faces rectangles drawn:"
   ]
  },
  {
   "cell_type": "code",
   "execution_count": 12,
   "id": "3be54539",
   "metadata": {},
   "outputs": [],
   "source": [
    "cv2.imshow('Image', original_image)\n",
    "cv2.waitKey(0)\n",
    "cv2.destroyAllWindows()"
   ]
  }
 ],
 "metadata": {
  "kernelspec": {
   "display_name": "Python 3 (ipykernel)",
   "language": "python",
   "name": "python3"
  },
  "language_info": {
   "codemirror_mode": {
    "name": "ipython",
    "version": 3
   },
   "file_extension": ".py",
   "mimetype": "text/x-python",
   "name": "python",
   "nbconvert_exporter": "python",
   "pygments_lexer": "ipython3",
   "version": "3.9.7"
  }
 },
 "nbformat": 4,
 "nbformat_minor": 5
}
