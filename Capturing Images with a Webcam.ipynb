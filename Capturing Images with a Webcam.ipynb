{
 "cells": [
  {
   "cell_type": "markdown",
   "id": "ce34f6a1",
   "metadata": {},
   "source": [
    "Taking an image is the same as capturing video. We use a VideoCapture object and use the read() function. A device index is just the number to specify which camera. Normally one camera will be connected, so simply pass 0; We can select other cameras connected by passing in 1 and so on. The read() function gets one frame at a time. Therefore, to get an image we only call the function once. And to get a video, we call the function within a loop."
   ]
  },
  {
   "cell_type": "code",
   "execution_count": 6,
   "id": "dd40ca71",
   "metadata": {
    "scrolled": false
   },
   "outputs": [],
   "source": [
    "# import the opencv library\n",
    "import cv2\n",
    "  \n",
    "# initialize the camera\n",
    "cam = cv2.VideoCapture(0)\n",
    "  \n",
    "# reading the input using the camera\n",
    "result, image = cam.read()\n",
    "  \n",
    "# If image detected without any error, \n",
    "# show result\n",
    "if result:\n",
    "  \n",
    "    # showing result, it take frame name and image \n",
    "    # output\n",
    "    cv2.imshow(\"snapshot\", image)\n",
    "  \n",
    "    # saving image in local storage\n",
    "    cv2.imwrite(\"SnapShot.png\", image)\n",
    "  \n",
    "    # If keyboard interrupt occurs, destroy image window, and closes camera\n",
    "    cv2.waitKey(0)\n",
    "    cv2.release()\n",
    "    cv2.destroyWindow(\"snapshot\")\n",
    "  \n",
    "# If captured image is corrupted, moving to else part\n",
    "else:\n",
    "    print(\"No image detected. Please! try again\")"
   ]
  },
  {
   "cell_type": "markdown",
   "id": "83152d95",
   "metadata": {},
   "source": [
    "If we want to save the frame (image) taken into our local storage, then we can use \" cv2.imwrite('filename', image) \" for that."
   ]
  }
 ],
 "metadata": {
  "kernelspec": {
   "display_name": "Python 3 (ipykernel)",
   "language": "python",
   "name": "python3"
  },
  "language_info": {
   "codemirror_mode": {
    "name": "ipython",
    "version": 3
   },
   "file_extension": ".py",
   "mimetype": "text/x-python",
   "name": "python",
   "nbconvert_exporter": "python",
   "pygments_lexer": "ipython3",
   "version": "3.9.7"
  }
 },
 "nbformat": 4,
 "nbformat_minor": 5
}
