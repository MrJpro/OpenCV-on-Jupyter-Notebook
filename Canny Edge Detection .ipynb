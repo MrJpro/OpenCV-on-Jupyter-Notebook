{
 "cells": [
  {
   "cell_type": "markdown",
   "id": "b55561b3",
   "metadata": {},
   "source": [
    "## Canny Edge Detection\n",
    "C.E.D. is a mulit-stage algorithm comprised of : \n",
    "1) Noise Reduction\n",
    "2) Intensity Gradient\n",
    "3) Non-maximum suppression\n",
    "4) Hysteresis Thresholding\n",
    "\n",
    "Some C.E.D. algorithms have more steps but theses are the main types. \n"
   ]
  },
  {
   "cell_type": "markdown",
   "id": "21687f1d",
   "metadata": {},
   "source": [
    "### Noise Reduction\n",
    "This step is neccesary because of our next step, which is to find the intensity gradient between pixels in frame; this uses calculus, and to make the result better we \"smooth out\" the values. We also simplifiy it to only grey scale. *There might be value in only including two colors or all.* "
   ]
  },
  {
   "cell_type": "markdown",
   "id": "6f849311",
   "metadata": {},
   "source": [
    "### For an image or frame :"
   ]
  },
  {
   "cell_type": "code",
   "execution_count": 8,
   "id": "df51ed76",
   "metadata": {},
   "outputs": [
    {
     "ename": "error",
     "evalue": "OpenCV(4.8.0) D:\\a\\opencv-python\\opencv-python\\opencv\\modules\\highgui\\src\\window_w32.cpp:1261: error: (-27:Null pointer) NULL window: 'snapshot' in function 'cvDestroyWindow'\n",
     "output_type": "error",
     "traceback": [
      "\u001b[1;31m---------------------------------------------------------------------------\u001b[0m",
      "\u001b[1;31merror\u001b[0m                                     Traceback (most recent call last)",
      "Cell \u001b[1;32mIn[8], line 40\u001b[0m\n\u001b[0;32m     38\u001b[0m     cv2\u001b[38;5;241m.\u001b[39mwaitKey(\u001b[38;5;241m0\u001b[39m)\n\u001b[0;32m     39\u001b[0m     cam\u001b[38;5;241m.\u001b[39mrelease()\n\u001b[1;32m---> 40\u001b[0m     \u001b[43mcv2\u001b[49m\u001b[38;5;241;43m.\u001b[39;49m\u001b[43mdestroyWindow\u001b[49m\u001b[43m(\u001b[49m\u001b[38;5;124;43m\"\u001b[39;49m\u001b[38;5;124;43msnapshot\u001b[39;49m\u001b[38;5;124;43m\"\u001b[39;49m\u001b[43m)\u001b[49m\n\u001b[0;32m     42\u001b[0m \u001b[38;5;66;03m# If captured image is corrupted, moving to else part\u001b[39;00m\n\u001b[0;32m     43\u001b[0m \u001b[38;5;28;01melse\u001b[39;00m:\n\u001b[0;32m     44\u001b[0m     \u001b[38;5;28mprint\u001b[39m(\u001b[38;5;124m\"\u001b[39m\u001b[38;5;124mNo image detected. Please! try again\u001b[39m\u001b[38;5;124m\"\u001b[39m)\n",
      "\u001b[1;31merror\u001b[0m: OpenCV(4.8.0) D:\\a\\opencv-python\\opencv-python\\opencv\\modules\\highgui\\src\\window_w32.cpp:1261: error: (-27:Null pointer) NULL window: 'snapshot' in function 'cvDestroyWindow'\n"
     ]
    }
   ],
   "source": [
    "import cv2\n",
    "  \n",
    "def canny_edge_detection(frame):\n",
    "    # Convert the frame to grayscale for edge detection\n",
    "    gray = cv2.cvtColor(frame, cv2.COLOR_BGR2GRAY)\n",
    "      \n",
    "    # Apply Gaussian blur to reduce noise and smoothen edges\n",
    "    blurred = cv2.GaussianBlur(src=gray, ksize=(5, 5), sigmaX=0.5)\n",
    "      \n",
    "    # Perform Canny edge detection\n",
    "    edges = cv2.Canny(blurred, 70, 135)\n",
    "      \n",
    "    return blurred, edges\n",
    "\n",
    "\n",
    "# initialize the camera\n",
    "cam = cv2.VideoCapture(0)\n",
    "  \n",
    "# reading the input using the camera\n",
    "result, image = cam.read()\n",
    "\n",
    "# If image detected without any error, \n",
    "# show result\n",
    "if result:\n",
    "    \n",
    "    # Perform Canny edge detection on the frame\n",
    "    blurred, edges = canny_edge_detection(image)\n",
    "    \n",
    "    # Display the original frame and the edge-detected frame\n",
    "    #cv2.imshow(\"Original\", frame)\n",
    "    cv2.imshow(\"Blurred\", blurred)\n",
    "    cv2.imshow(\"Edges\", edges)\n",
    "  \n",
    "    # saving image in local storage\n",
    "    cv2.imwrite(\"SnapShot.png\", image)\n",
    "  \n",
    "    # If keyboard interrupt occurs, destroy image window, and closes camera\n",
    "    cv2.waitKey(0)\n",
    "    cam.release()\n",
    "    cv2.destroyWindow(\"snapshot\")\n",
    "  \n",
    "# If captured image is corrupted, moving to else part\n",
    "else:\n",
    "    print(\"No image detected. Please! try again\")"
   ]
  },
  {
   "cell_type": "markdown",
   "id": "21db62d5",
   "metadata": {},
   "source": [
    "### For video/ webcam :"
   ]
  },
  {
   "cell_type": "code",
   "execution_count": 9,
   "id": "1e288bb5",
   "metadata": {},
   "outputs": [],
   "source": [
    "#import libriaries\n",
    "import cv2 as cv\n",
    "  \n",
    "def canny_edge_detection(frame):\n",
    "    # Convert the frame to grayscale for edge detection\n",
    "    gray = cv.cvtColor(frame, cv.COLOR_BGR2GRAY)\n",
    "      \n",
    "    # Apply Gaussian blur to reduce noise and smoothen edges\n",
    "    blurred = cv.GaussianBlur(src=gray, ksize=(5, 5), sigmaX=0.5)\n",
    "      \n",
    "    # Perform Canny edge detection\n",
    "    edges = cv.Canny(blurred, 70, 135)\n",
    "      \n",
    "    return blurred, edges\n",
    "\n",
    "# initialize the camera\n",
    "cap = cv.VideoCapture(0)\n",
    "#check that it worked properly, otherwise exit\n",
    "if not cap.isOpened():\n",
    "    print(\"Cannot open camera\")\n",
    "    exit()\n",
    "\n",
    "#loop to capture our video\n",
    "while True:\n",
    "    # Capture frame-by-frame\n",
    "    ret, frame = cap.read()\n",
    "    # check that frame was read correctly\n",
    "    if not ret:\n",
    "        print(\"Can't receive frame (stream end?). Exiting ...\")\n",
    "        break\n",
    "\n",
    "      # Perform Canny edge detection on the frame\n",
    "    blurred, edges = canny_edge_detection(frame)\n",
    "    \n",
    "    # Display the original frame and the edge-detected frame\n",
    "    cv2.imshow(\"Original\", frame)\n",
    "    cv2.imshow(\"Blurred\", blurred)\n",
    "    cv2.imshow(\"Edges\", edges)\n",
    "       \n",
    "    \n",
    "    #If 'q' is pressed then exit loop\n",
    "    if cv.waitKey(1) == ord('q'):\n",
    "        break\n",
    "\n",
    "# When everything done, release the capture\n",
    "cap.release()\n",
    "cv.destroyAllWindows()"
   ]
  },
  {
   "cell_type": "markdown",
   "id": "87812ebc",
   "metadata": {},
   "source": [
    "#### Additional information\n",
    "OpenCV - https://docs.opencv.org/4.x/da/d22/tutorial_py_canny.html\n",
    "\n",
    "OpenCV cv2.Canny() docs - https://docs.opencv.org/4.x/dd/d1a/group__imgproc__feature.html#ga04723e007ed888ddf11d9ba04e2232de\n"
   ]
  },
  {
   "cell_type": "code",
   "execution_count": null,
   "id": "b499631c",
   "metadata": {},
   "outputs": [],
   "source": []
  }
 ],
 "metadata": {
  "kernelspec": {
   "display_name": "Python 3 (ipykernel)",
   "language": "python",
   "name": "python3"
  },
  "language_info": {
   "codemirror_mode": {
    "name": "ipython",
    "version": 3
   },
   "file_extension": ".py",
   "mimetype": "text/x-python",
   "name": "python",
   "nbconvert_exporter": "python",
   "pygments_lexer": "ipython3",
   "version": "3.9.7"
  }
 },
 "nbformat": 4,
 "nbformat_minor": 5
}
