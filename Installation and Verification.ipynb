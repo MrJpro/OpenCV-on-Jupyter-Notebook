{
 "cells": [
  {
   "cell_type": "markdown",
   "id": "9288014a",
   "metadata": {},
   "source": [
    "# Getting started with OpenCV"
   ]
  },
  {
   "cell_type": "markdown",
   "id": "1f9454be",
   "metadata": {},
   "source": [
    "I will be running on Windows, not building from source, with Python. Which for my choices, requies me to input \" pip3 install opencv-python \", in the command prompt to install OpenCV. To find your command , go to --> https://opencv.org/get-started/ "
   ]
  },
  {
   "cell_type": "markdown",
   "id": "b34e350b",
   "metadata": {},
   "source": [
    "Then to Verify that OpenCV is installed correctly, we can run a simple example. \n",
    "Download any image and write down its relative path to the folder."
   ]
  },
  {
   "cell_type": "code",
   "execution_count": 3,
   "id": "5ed639f2",
   "metadata": {},
   "outputs": [],
   "source": [
    "import cv2 as cv\n",
    "#my image is in the same folder as this file.\n",
    "#my file name is nebula.jpg\n",
    "img = cv.imread(\"nebula.jpg\")\n",
    "\n",
    "#this displays the image\n",
    "cv.imshow(\"Display window\", img)\n",
    "k = cv.waitKey(0) # Wait for a keystroke in the window\n",
    "\n"
   ]
  },
  {
   "cell_type": "markdown",
   "id": "9c5577e6",
   "metadata": {},
   "source": [
    "The picture I choose seems too big to fit, it looks zoomed in.\n",
    "I know that my display is of 2560x1440 resolution. I want to know what is the height, width, and the amount of channels that my image has."
   ]
  },
  {
   "cell_type": "code",
   "execution_count": 7,
   "id": "5433518b",
   "metadata": {},
   "outputs": [
    {
     "name": "stdout",
     "output_type": "stream",
     "text": [
      "Original Height and Width: 7462 x 7857\n",
      "Number of channels: 3\n"
     ]
    }
   ],
   "source": [
    "# Get original height,width, and channels with shape()\n",
    "h,w,c = img.shape\n",
    "print(\"Original Height and Width:\", h,\"x\", w)\n",
    "print(\"Number of channels:\", c)"
   ]
  },
  {
   "cell_type": "markdown",
   "id": "062b4264",
   "metadata": {},
   "source": [
    "Now that we have the images resolution, we can scale it to fit perfectly on our screen (in my case, the screen is 2560 x 1440, and the image I choose is 7462 x 7857). We'll use .resize(),which requires us to create a 2D vector, representing the pixels of the image. The interpolation allows us to specify different methods for resizing the image. Different methods work better for some application than others."
   ]
  },
  {
   "cell_type": "code",
   "execution_count": 12,
   "id": "7e63a004",
   "metadata": {},
   "outputs": [],
   "source": [
    "# Set rows and columns \n",
    "# lets downsize the image using new  width and height\n",
    "down_w = 2560\n",
    "down_h = 1440\n",
    "down_v = (down_w, down_h)\n",
    "resized_img = cv.resize(img, down_v, interpolation= cv.INTER_LINEAR)"
   ]
  },
  {
   "cell_type": "markdown",
   "id": "18257c0d",
   "metadata": {},
   "source": [
    "After resizing the image, we'll redisply the image to verify that it was resized."
   ]
  },
  {
   "cell_type": "code",
   "execution_count": 14,
   "id": "200aab86",
   "metadata": {},
   "outputs": [],
   "source": [
    "#this displays the image\n",
    "cv.imshow(\"Resized image\", resized_img)\n",
    "k = cv.waitKey(0) # Wait for a keystroke in the window"
   ]
  },
  {
   "cell_type": "markdown",
   "id": "3f7a14ed",
   "metadata": {},
   "source": [
    "We can now view the entire image. And are ready to use OpenCV"
   ]
  },
  {
   "cell_type": "markdown",
   "id": "6569749e",
   "metadata": {},
   "source": [
    "## further info: <br>\n",
    "link to image used: https://unsplash.com/photos/rTZW4f02zY8 <br>\n",
    "link to cv2.resize() documentation: https://docs.opencv.org/4.x/da/d54/group__imgproc__transform.html#ga47a974309e9102f5f08231edc7e7529d \n"
   ]
  },
  {
   "cell_type": "code",
   "execution_count": null,
   "id": "77661c3a",
   "metadata": {},
   "outputs": [],
   "source": []
  }
 ],
 "metadata": {
  "kernelspec": {
   "display_name": "Python 3 (ipykernel)",
   "language": "python",
   "name": "python3"
  },
  "language_info": {
   "codemirror_mode": {
    "name": "ipython",
    "version": 3
   },
   "file_extension": ".py",
   "mimetype": "text/x-python",
   "name": "python",
   "nbconvert_exporter": "python",
   "pygments_lexer": "ipython3",
   "version": "3.9.7"
  }
 },
 "nbformat": 4,
 "nbformat_minor": 5
}
