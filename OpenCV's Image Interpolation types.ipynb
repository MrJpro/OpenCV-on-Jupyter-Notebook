{
 "cells": [
  {
   "cell_type": "markdown",
   "id": "fc5527e4",
   "metadata": {},
   "source": [
    "# Types of Image Interpolation\n",
    "In this section, we'll go over what Interpolation is and the differnet types of interpolation availble with OpenCV's resize() function."
   ]
  },
  {
   "cell_type": "markdown",
   "id": "54f73ed8",
   "metadata": {},
   "source": [
    "## What is Interpolation?\n",
    "In the mathematical field of numerical analysis, interpolation is a type of estimation, a method of constructing (finding) new data points based on the range of a discrete set of known data points.* In our case, we are using Interpolation to transform an image into a different size image. Whether we're enlargening or shrinking the image, interpolation is used to generate our output."
   ]
  },
  {
   "cell_type": "markdown",
   "id": "521a1e6a",
   "metadata": {},
   "source": [
    "## Getting started\n",
    "To view how differnet interpolation methods work,we'll start by downloading an image and downloading it into our current working folder. Then we'll apply different interpolation methods to both enlargening and shrinking the image. "
   ]
  },
  {
   "cell_type": "code",
   "execution_count": 1,
   "id": "c3bf0879",
   "metadata": {},
   "outputs": [],
   "source": [
    "import cv2 as cv\n",
    "#my image is in the same folder as this file.\n",
    "#my file name is nebula.jpg\n",
    "img = cv.imread(\"river.jpg\")\n",
    "\n",
    "#this displays the image\n",
    "cv.imshow(\"Display window\", img)\n",
    "k = cv.waitKey(0) # Wait for a keystroke in the window\n",
    "\n",
    "#if key pressed is 'q', close windows\n",
    "if k == ord('q'):\n",
    "    cv.destroyAllWindows()"
   ]
  },
  {
   "cell_type": "markdown",
   "id": "2bbe7a9e",
   "metadata": {},
   "source": [
    "We've displayed our image and its dimensions. We will do two transformations, one to enlarge and one to shrink. We will try different interpolations with each transformation and compare it's results."
   ]
  },
  {
   "cell_type": "markdown",
   "id": "d3c02d6f",
   "metadata": {},
   "source": [
    "## Setting transformation values"
   ]
  },
  {
   "cell_type": "code",
   "execution_count": 5,
   "id": "42b189d6",
   "metadata": {},
   "outputs": [],
   "source": [
    "#values for enlarged image \n",
    "#enlarge values are 1.5 times the image size, rounded up.\n",
    "enlarge_w = 960  #width \n",
    "enlarge_h = 1370 #height \n",
    "enlarge_v = (enlarge_w,enlarge_h)\n",
    "\n",
    "#values for shrinked image\n",
    "#shrinked valuyes are 1/2 times the image size, rounded down.\n",
    "shrink_w = 320\n",
    "shrink_h = 456\n",
    "shrink_v = (shrink_w,shrink_h)"
   ]
  },
  {
   "cell_type": "markdown",
   "id": "4dd8f695",
   "metadata": {},
   "source": [
    "## Applying Transformations"
   ]
  },
  {
   "cell_type": "markdown",
   "id": "bd964338",
   "metadata": {},
   "source": [
    "We will be using the same code, simply changing the interpolation type to compare their effects on both enlargening and shrinking images."
   ]
  },
  {
   "cell_type": "markdown",
   "id": "fe7d1cdb",
   "metadata": {},
   "source": [
    "###  1) Linear Interpolation\n",
    " \t\n",
    "bilinear interpolation"
   ]
  },
  {
   "cell_type": "code",
   "execution_count": 7,
   "id": "311cf5cc",
   "metadata": {},
   "outputs": [],
   "source": [
    "#apply enlargen transformation\n",
    "enlarge_img = cv.resize(img, enlarge_v, interpolation= cv.INTER_LINEAR)\n",
    "shrink_img = cv.resize(img, shrink_v, interpolation= cv.INTER_LINEAR)\n",
    "\n",
    "#this displays the image\n",
    "cv.imshow(\"Enlarged Linear image\", enlarge_img)\n",
    "cv.imshow(\"Shrunken Linear image\", shrink_img)\n",
    "\n",
    "k = cv.waitKey(0) # Wait for a keystroke in the window\n",
    "\n",
    "#if key pressed is 'q', close windows\n",
    "if k == ord('q'):\n",
    "    cv.destroyAllWindows()"
   ]
  },
  {
   "cell_type": "markdown",
   "id": "0d14b297",
   "metadata": {},
   "source": [
    "### 2) Cubic Interpolation\n",
    "bicubic interpolation"
   ]
  },
  {
   "cell_type": "code",
   "execution_count": 8,
   "id": "9a7865a6",
   "metadata": {},
   "outputs": [],
   "source": [
    "#apply enlargen transformation\n",
    "enlarge_img = cv.resize(img, enlarge_v, interpolation= cv.INTER_CUBIC)\n",
    "shrink_img = cv.resize(img, shrink_v, interpolation= cv.INTER_CUBIC)\n",
    "\n",
    "#this displays the image\n",
    "cv.imshow(\"Enlarged Cubic image\", enlarge_img)\n",
    "cv.imshow(\"Shrunken Cubic image\", shrink_img)\n",
    "\n",
    "k = cv.waitKey(0) # Wait for a keystroke in the window\n",
    "\n",
    "#if key pressed is 'q', close windows\n",
    "if k == ord('q'):\n",
    "    cv.destroyAllWindows()"
   ]
  },
  {
   "cell_type": "markdown",
   "id": "d3703bfb",
   "metadata": {},
   "source": [
    "### 3) Area Interpolation \n",
    "resampling using pixel area relation. It may be a preferred method for image decimation, as it gives moire'-free results. But when the image is zoomed, it is similar to the INTER_NEAREST method."
   ]
  },
  {
   "cell_type": "code",
   "execution_count": 14,
   "id": "ae3c5736",
   "metadata": {},
   "outputs": [],
   "source": [
    "#apply enlargen transformation\n",
    "enlarge_img = cv.resize(img, enlarge_v, interpolation= cv.INTER_AREA)\n",
    "shrink_img = cv.resize(img, shrink_v, interpolation= cv.INTER_AREA)\n",
    "\n",
    "#this displays the image\n",
    "cv.imshow(\"Enlarged Area image\", enlarge_img)\n",
    "cv.imshow(\"Shrunken Area image\", shrink_img)\n",
    "\n",
    "k = cv.waitKey(0) # Wait for a keystroke in the window\n",
    "\n",
    "#if key pressed is 'q', close windows\n",
    "if k == ord('q'):\n",
    "    cv.destroyAllWindows()"
   ]
  },
  {
   "cell_type": "markdown",
   "id": "488f93ef",
   "metadata": {},
   "source": [
    "### 4) Nearest Neighbor Interpolation"
   ]
  },
  {
   "cell_type": "code",
   "execution_count": 9,
   "id": "45896927",
   "metadata": {},
   "outputs": [],
   "source": [
    "#apply enlargen transformation\n",
    "enlarge_img = cv.resize(img, enlarge_v, interpolation= cv.INTER_NEAREST)\n",
    "shrink_img = cv.resize(img, shrink_v, interpolation= cv.INTER_NEAREST)\n",
    "\n",
    "#this displays the image\n",
    "cv.imshow(\"Enlarged Nearest Neighbor image\", enlarge_img)\n",
    "cv.imshow(\"Shrunken Nearest Neighbor image\", shrink_img)\n",
    "\n",
    "k = cv.waitKey(0) # Wait for a keystroke in the window\n",
    "\n",
    "#if key pressed is 'q', close windows\n",
    "if k == ord('q'):\n",
    "    cv.destroyAllWindows()"
   ]
  },
  {
   "cell_type": "markdown",
   "id": "95ace6b3",
   "metadata": {},
   "source": [
    "### 5) Lanczos Interpolation\n",
    "Lanczos interpolation over 8x8 neighborhood"
   ]
  },
  {
   "cell_type": "code",
   "execution_count": 10,
   "id": "4cd256a3",
   "metadata": {},
   "outputs": [],
   "source": [
    "#apply enlargen transformation\n",
    "enlarge_img = cv.resize(img, enlarge_v, interpolation= cv.INTER_LANCZOS4)\n",
    "shrink_img = cv.resize(img, shrink_v, interpolation= cv.INTER_LANCZOS4)\n",
    "\n",
    "#this displays the image\n",
    "cv.imshow(\"Enlarged Lanczos image\", enlarge_img)\n",
    "cv.imshow(\"Shrunken Lanczos image\", shrink_img)\n",
    "\n",
    "k = cv.waitKey(0) # Wait for a keystroke in the window\n",
    "\n",
    "#if key pressed is 'q', close windows\n",
    "if k == ord('q'):\n",
    "    cv.destroyAllWindows()"
   ]
  },
  {
   "cell_type": "markdown",
   "id": "721cd7ae",
   "metadata": {},
   "source": [
    "###  6) Linear Exact Interpolation \n",
    "Bit exact bilinear interpolation"
   ]
  },
  {
   "cell_type": "code",
   "execution_count": 11,
   "id": "987cafdf",
   "metadata": {},
   "outputs": [],
   "source": [
    "#apply enlargen transformation\n",
    "enlarge_img = cv.resize(img, enlarge_v, interpolation= cv.INTER_LINEAR_EXACT)\n",
    "shrink_img = cv.resize(img, shrink_v, interpolation= cv.INTER_LINEAR_EXACT)\n",
    "\n",
    "#this displays the image\n",
    "cv.imshow(\"Enlarged Linear Exact image\", enlarge_img)\n",
    "cv.imshow(\"Shrunken Linear Exact image\", shrink_img)\n",
    "\n",
    "k = cv.waitKey(0) # Wait for a keystroke in the window\n",
    "\n",
    "#if key pressed is 'q', close windows\n",
    "if k == ord('q'):\n",
    "    cv.destroyAllWindows()"
   ]
  },
  {
   "cell_type": "markdown",
   "id": "71e538c0",
   "metadata": {},
   "source": [
    "### 7) Nearest Exact Interpolation\n",
    "Bit exact nearest neighbor interpolation. This will produce same results as the nearest neighbor method in PIL, scikit-image or Matlab."
   ]
  },
  {
   "cell_type": "code",
   "execution_count": 12,
   "id": "a95386c8",
   "metadata": {},
   "outputs": [],
   "source": [
    "#apply enlargen transformation\n",
    "enlarge_img = cv.resize(img, enlarge_v, interpolation= cv.INTER_NEAREST_EXACT)\n",
    "shrink_img = cv.resize(img, shrink_v, interpolation= cv.INTER_NEAREST_EXACT)\n",
    "\n",
    "#this displays the image\n",
    "cv.imshow(\"Enlarged Nearest Exact image\", enlarge_img)\n",
    "cv.imshow(\"Shrunken Nearest Exact image\", shrink_img)\n",
    "\n",
    "k = cv.waitKey(0) # Wait for a keystroke in the window\n",
    "\n",
    "#if key pressed is 'q', close windows\n",
    "if k == ord('q'):\n",
    "    cv.destroyAllWindows()"
   ]
  },
  {
   "cell_type": "markdown",
   "id": "e24f32d4",
   "metadata": {},
   "source": [
    "## Display image within jupyter notebook"
   ]
  },
  {
   "cell_type": "markdown",
   "id": "5a907f81",
   "metadata": {},
   "source": [
    "To display an image within jupyter notebooks, we have to use the PIL library. If we use an OpenCV object then we have to convert its color order form BGR to RGB before displaying or the colors will be off."
   ]
  },
  {
   "cell_type": "code",
   "execution_count": null,
   "id": "f773b011",
   "metadata": {},
   "outputs": [],
   "source": [
    "#import libraries\n",
    "from PIL import Image\n",
    "from IPython.display import display\n",
    "import matplotlib.pyplot as plt\n",
    "import cv2 as cv\n",
    "\n",
    "#using PIL to display image in jupyter notebooks\n",
    "img = Image.open('river.jpg')\n",
    "display(img)\n",
    "\n",
    "#using CV and IPython.display to display image in jupyter notebooks\n",
    "img2 = cv.imread('river.jpg')\n",
    "convert_img = cv.cvtColor(img2, cv.COLOR_BGR2RGB) # Converting BGR to RGB\n",
    "display(Image.fromarray(convert_img))"
   ]
  },
  {
   "cell_type": "markdown",
   "id": "73292951",
   "metadata": {},
   "source": [
    "Further info: \n",
    "link to picture used : https://unsplash.com/photos/a-river-running-through-a-lush-green-forest-yTBPXYDt6fo (using the small image 913px x 640px)"
   ]
  }
 ],
 "metadata": {
  "kernelspec": {
   "display_name": "Python 3 (ipykernel)",
   "language": "python",
   "name": "python3"
  },
  "language_info": {
   "codemirror_mode": {
    "name": "ipython",
    "version": 3
   },
   "file_extension": ".py",
   "mimetype": "text/x-python",
   "name": "python",
   "nbconvert_exporter": "python",
   "pygments_lexer": "ipython3",
   "version": "3.9.7"
  }
 },
 "nbformat": 4,
 "nbformat_minor": 5
}
