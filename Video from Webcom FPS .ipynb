{
 "cells": [
  {
   "cell_type": "markdown",
   "id": "746ce5ee",
   "metadata": {},
   "source": [
    "## Finding the frame rate of a webcam\n",
    "Since there is no built in feature that works on realtime video, we have to calculate the frames per second manually. Then we will display the value in the top left corner. \n",
    "The purpose of seeing the frame rate is to monitor performance once we start applying operations on the realtime feed.We'll also be able to see if there is any diference between CPU and GPU processing with CUDA."
   ]
  },
  {
   "cell_type": "code",
   "execution_count": 19,
   "id": "e6604b9d",
   "metadata": {},
   "outputs": [],
   "source": [
    "#import libriaries\n",
    "import cv2 \n",
    "import numpy as np\n",
    "import time\n",
    "\n",
    "# initialize the camera\n",
    "cap = cv.VideoCapture(0)\n",
    "cap.set(cv2.CAP_PROP_FPS, 60)\n",
    "#check that it worked properly, otherwise exit\n",
    "if not cap.isOpened():\n",
    "    print(\"Cannot open camera\")\n",
    "    exit()\n",
    "    \n",
    "# used to record the time when we processed last frame\n",
    "prev_frame_time = 0\n",
    "  \n",
    "# used to record the time at which we processed current frame\n",
    "new_frame_time = 0  \n",
    "# font which we will be using to display FPS\n",
    "font = cv2.FONT_HERSHEY_SIMPLEX\n",
    "    \n",
    "#loop to capture our video\n",
    "while True:\n",
    "    # Capture frame-by-frame\n",
    "    ret, frame = cap.read()\n",
    "    # check that frame was read correctly\n",
    "    if not ret:\n",
    "        print(\"Can't receive frame (stream end?). Exiting ...\")\n",
    "        break\n",
    "    # Our operations on the frame come here\n",
    "    gray = frame\n",
    "    \n",
    "    #finished the first operations and displayed\n",
    "    new_frame_time = time.time()\n",
    "    fps = 1/(new_frame_time-prev_frame_time)\n",
    "    prev_frame_time = new_frame_time\n",
    "  \n",
    "    # converting the fps into integer then to string \n",
    "    # so that we can display it on frame\n",
    "    # by using putText function\n",
    "    fps = str(int(fps))\n",
    "    framespersecond= str(int(cap.get(cv.CAP_PROP_FPS)))\n",
    "    # putting the FPS count on the frame\n",
    "    cv2.putText(gray,framespersecond, (7, 70), font, 3, (50, 50, 0), 3, cv2.LINE_AA)\n",
    "    \n",
    "  \n",
    "    # displaying the frame with fps\n",
    "    cv2.imshow('frame', gray)\n",
    "    \n",
    "    #If 'q' is pressed then exit loop\n",
    "    if cv.waitKey(1) == ord('q'):\n",
    "        break\n",
    "        \n",
    "# When everything done, release the capture\n",
    "cap.release()\n",
    "cv.destroyAllWindows()"
   ]
  },
  {
   "cell_type": "code",
   "execution_count": null,
   "id": "9ff9ca90",
   "metadata": {},
   "outputs": [],
   "source": []
  }
 ],
 "metadata": {
  "kernelspec": {
   "display_name": "Python 3 (ipykernel)",
   "language": "python",
   "name": "python3"
  },
  "language_info": {
   "codemirror_mode": {
    "name": "ipython",
    "version": 3
   },
   "file_extension": ".py",
   "mimetype": "text/x-python",
   "name": "python",
   "nbconvert_exporter": "python",
   "pygments_lexer": "ipython3",
   "version": "3.9.7"
  }
 },
 "nbformat": 4,
 "nbformat_minor": 5
}
